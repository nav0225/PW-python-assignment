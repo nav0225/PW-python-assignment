{
 "cells": [
  {
   "cell_type": "markdown",
   "id": "dcf4d901-e5d0-40c1-b562-dfa75b53aa74",
   "metadata": {},
   "source": [
    "# Answer 1: \n",
    "enclose the string containing a single quote within double quotes (\"). This way, the single quote can be included directly in the string without causing any syntax errors. "
   ]
  },
  {
   "cell_type": "code",
   "execution_count": null,
   "id": "234c260c-66bb-4ec0-8561-500b0f4bae86",
   "metadata": {},
   "outputs": [],
   "source": [
    "my_variable = \"I'm a string with a single quote.\"\n",
    "print(my_variable)\n"
   ]
  },
  {
   "cell_type": "markdown",
   "id": "773ce016-77eb-40ed-ba52-9f58de17936a",
   "metadata": {},
   "source": [
    "Use the backslash (\\) as an escape character before the single quote to indicate that it should be treated as a literal character and not as the closing quote of the string."
   ]
  },
  {
   "cell_type": "code",
   "execution_count": null,
   "id": "25c9b1b5-dab0-430a-85cd-c02828bfe7af",
   "metadata": {},
   "outputs": [],
   "source": [
    "my_variable = 'I\\'m a string with a single quote.'\n",
    "print(my_variable)\n"
   ]
  },
  {
   "cell_type": "markdown",
   "id": "57aa8e54-6e36-4334-9b06-a146e67de44f",
   "metadata": {},
   "source": [
    "# Answer 2:\n",
    "The variable x in the given example is considered a string type variable, not a character type variable.\n",
    "\n",
    "There is no separate character type like some other programming languages have (such as C or Java). Instead, individual characters are represented as strings of length 1. Therefore, even when a single character is assigned to a variable, it is still treated as a string."
   ]
  },
  {
   "cell_type": "code",
   "execution_count": null,
   "id": "f6db4b27-6ad0-4d02-b58c-6e5d76c8f2c7",
   "metadata": {},
   "outputs": [],
   "source": [
    "x = 'a'\n",
    "print(type(x))  # Output: <class 'str'>\n"
   ]
  },
  {
   "cell_type": "markdown",
   "id": "290c5e20-12ef-4135-a51e-1173fbe0ccf1",
   "metadata": {},
   "source": [
    "# Answer 3:"
   ]
  },
  {
   "cell_type": "code",
   "execution_count": 3,
   "id": "e41ae0dc-4181-49ff-8653-e642e810eb84",
   "metadata": {},
   "outputs": [
    {
     "name": "stdout",
     "output_type": "stream",
     "text": [
      " letter 'e' in the string is at index: 1, \n",
      " letter 'c' appears in the string 2 times, \n",
      " length of the string is: 35\n"
     ]
    }
   ],
   "source": [
    "str = 'Welcome to Python foundat1on course'\n",
    "\n",
    "print(\"\"\" letter 'e' in the string is at index: {}, \n",
    " letter 'c' appears in the string {} times, \n",
    " length of the string is: {}\"\"\".format(str.find('e'), str.count('c'), len(str)))"
   ]
  },
  {
   "cell_type": "markdown",
   "id": "1dbeadf1-b22e-46d1-9524-5c5aa3f5947a",
   "metadata": {},
   "source": [
    "# Answer 4: "
   ]
  },
  {
   "cell_type": "code",
   "execution_count": 4,
   "id": "0d06a3aa-9bfc-4ab7-b0f7-60d1390c417a",
   "metadata": {},
   "outputs": [
    {
     "name": "stdout",
     "output_type": "stream",
     "text": [
      "4\n"
     ]
    }
   ],
   "source": [
    "word = 'PanaJi@12256'\n",
    "lowercase_count = sum(1 for char in word if char.islower())\n",
    "print(lowercase_count)"
   ]
  },
  {
   "cell_type": "code",
   "execution_count": 5,
   "id": "e9a95c44-90ac-4ba6-baf8-22617f11bcc4",
   "metadata": {},
   "outputs": [
    {
     "name": "stdout",
     "output_type": "stream",
     "text": [
      "2\n"
     ]
    }
   ],
   "source": [
    "word = 'PanaJi@12256'\n",
    "uppercase_count = sum(1 for char in word if char.isupper())\n",
    "print(uppercase_count)\n"
   ]
  },
  {
   "cell_type": "code",
   "execution_count": 6,
   "id": "23b1a462-d89c-48ff-8118-dfb7d8ff6c40",
   "metadata": {},
   "outputs": [
    {
     "name": "stdout",
     "output_type": "stream",
     "text": [
      "5\n"
     ]
    }
   ],
   "source": [
    "word = 'PanaJi@12256'\n",
    "numeric_count = sum(1 for char in word if char.isdigit())\n",
    "print(numeric_count)\n"
   ]
  },
  {
   "cell_type": "markdown",
   "id": "df8bb4de-d8cf-4d1e-a152-2a88cfa3f6af",
   "metadata": {},
   "source": [
    "# Answer 5:"
   ]
  },
  {
   "cell_type": "code",
   "execution_count": 7,
   "id": "3ab8c548-e077-468e-90ae-55beec2ec29e",
   "metadata": {},
   "outputs": [
    {
     "name": "stdout",
     "output_type": "stream",
     "text": [
      "Original value: 42\n"
     ]
    },
    {
     "ename": "TypeError",
     "evalue": "'str' object is not callable",
     "output_type": "error",
     "traceback": [
      "\u001b[0;31m---------------------------------------------------------------------------\u001b[0m",
      "\u001b[0;31mTypeError\u001b[0m                                 Traceback (most recent call last)",
      "Cell \u001b[0;32mIn[7], line 4\u001b[0m\n\u001b[1;32m      1\u001b[0m num \u001b[38;5;241m=\u001b[39m \u001b[38;5;241m42\u001b[39m\n\u001b[1;32m      2\u001b[0m \u001b[38;5;28mprint\u001b[39m(\u001b[38;5;124m\"\u001b[39m\u001b[38;5;124mOriginal value:\u001b[39m\u001b[38;5;124m\"\u001b[39m, num)  \n\u001b[0;32m----> 4\u001b[0m num_str \u001b[38;5;241m=\u001b[39m \u001b[38;5;28;43mstr\u001b[39;49m\u001b[43m(\u001b[49m\u001b[43mnum\u001b[49m\u001b[43m)\u001b[49m\n\u001b[1;32m      5\u001b[0m \u001b[38;5;28mprint\u001b[39m(\u001b[38;5;124m\"\u001b[39m\u001b[38;5;124mConverted value:\u001b[39m\u001b[38;5;124m\"\u001b[39m, num_str)\n\u001b[1;32m      7\u001b[0m \u001b[38;5;66;03m# Verifying the type of the converted value\u001b[39;00m\n",
      "\u001b[0;31mTypeError\u001b[0m: 'str' object is not callable"
     ]
    }
   ],
   "source": [
    "num = 42\n",
    "print(\"Original value:\", num)  \n",
    "\n",
    "num_str = str(num)\n",
    "print(\"Converted value:\", num_str)\n",
    "\n",
    "# Verifying the type of the converted value\n",
    "print(\"Type of converted value:\", type(num_str))  "
   ]
  },
  {
   "cell_type": "code",
   "execution_count": null,
   "id": "9c811289-1ed2-4eaa-bcfc-c804edad8f97",
   "metadata": {},
   "outputs": [],
   "source": []
  }
 ],
 "metadata": {
  "kernelspec": {
   "display_name": "Python 3 (ipykernel)",
   "language": "python",
   "name": "python3"
  },
  "language_info": {
   "codemirror_mode": {
    "name": "ipython",
    "version": 3
   },
   "file_extension": ".py",
   "mimetype": "text/x-python",
   "name": "python",
   "nbconvert_exporter": "python",
   "pygments_lexer": "ipython3",
   "version": "3.10.8"
  }
 },
 "nbformat": 4,
 "nbformat_minor": 5
}
