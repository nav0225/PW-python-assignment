{
 "cells": [
  {
   "cell_type": "markdown",
   "id": "99ab6f68-e0fc-4cfe-a23a-c9a44ab2abd4",
   "metadata": {},
   "source": [
    "# Answer 1:\n",
    "A tuple is an ordered, immutable collection of elements. It is similar to a list, but the main difference is that tuples cannot be modified once they are created. Tuples are defined using parentheses () or the tuple() constructor."
   ]
  },
  {
   "cell_type": "markdown",
   "id": "77b55a01-3fac-4e24-8359-80a16ecea090",
   "metadata": {},
   "source": [
    "# Answer 2:\n",
    "Using parentheses ():"
   ]
  },
  {
   "cell_type": "code",
   "execution_count": 1,
   "id": "1c5b132f-61b8-4804-9246-1bc7df47fba9",
   "metadata": {},
   "outputs": [
    {
     "name": "stdout",
     "output_type": "stream",
     "text": [
      "(1, 2, 3, 4, 5)\n"
     ]
    }
   ],
   "source": [
    "my_tuple = (1, 2, 3, 4, 5)\n",
    "print(my_tuple) "
   ]
  },
  {
   "cell_type": "markdown",
   "id": "9dd985f4-0737-4e49-a294-e32382dd3b0a",
   "metadata": {},
   "source": [
    "Using the tuple() constructor:"
   ]
  },
  {
   "cell_type": "code",
   "execution_count": 2,
   "id": "77d78290-e41c-4f44-9846-b286b2dbab0b",
   "metadata": {},
   "outputs": [
    {
     "name": "stdout",
     "output_type": "stream",
     "text": [
      "(1, 2, 3, 4, 5)\n"
     ]
    }
   ],
   "source": [
    "my_tuple = tuple([1, 2, 3, 4, 5])\n",
    "print(my_tuple)"
   ]
  },
  {
   "cell_type": "markdown",
   "id": "191a8b38-5e62-43f2-a6a6-a4ccea6e730b",
   "metadata": {},
   "source": [
    "Creating a single-element and an empty tuple:"
   ]
  },
  {
   "cell_type": "code",
   "execution_count": 4,
   "id": "d605fc5b-114c-400d-bae7-ea3c147d17e2",
   "metadata": {},
   "outputs": [
    {
     "name": "stdout",
     "output_type": "stream",
     "text": [
      "(42,)\n",
      "<class 'tuple'>\n"
     ]
    }
   ],
   "source": [
    "single_element_tuple = (42,)\n",
    "print(single_element_tuple) \n",
    "t = ()\n",
    "print(type(t))"
   ]
  },
  {
   "cell_type": "markdown",
   "id": "544335d1-d391-4bee-be2c-e7a69ff50d6f",
   "metadata": {},
   "source": [
    "# Answer 3:\n",
    "Mutability: Tuples are immutable, meaning their elements cannot be modified after creation. Once a tuple is created, you cannot add, remove, or change elements. In contrast, lists are mutable, allowing you to modify, add, or remove elements freely.\n",
    "Syntax: Tuples are defined using parentheses () or without any delimiters, with elements separated by commas. Lists, on the other hand, are defined using square brackets [] and also have elements separated by commas."
   ]
  },
  {
   "cell_type": "markdown",
   "id": "d391f498-4721-4760-8bdf-c97eb82e15a1",
   "metadata": {},
   "source": [
    "# Answer 4:\n",
    "No, a tuple in Python is immutable, meaning its elements cannot be changed once the tuple is created. Once a tuple is defined, you cannot add, remove, or modify its elements."
   ]
  },
  {
   "cell_type": "markdown",
   "id": "bf6fd1b6-3f65-4b66-987d-560d5970e1a4",
   "metadata": {},
   "source": [
    "# Answer 5:\n",
    "Indexing:\n",
    "A specific element in a tuple can be accessed by specifying its index within square brackets []. Python uses zero-based indexing, which means the first element has an index of 0, the second element has an index of 1, and so on\n",
    "\n"
   ]
  },
  {
   "cell_type": "code",
   "execution_count": 5,
   "id": "0e5de991-4b98-48a3-aae7-1d0c1e233658",
   "metadata": {},
   "outputs": [
    {
     "name": "stdout",
     "output_type": "stream",
     "text": [
      "10\n",
      "30\n"
     ]
    }
   ],
   "source": [
    "my_tuple = (10, 20, 30, 40, 50)\n",
    "print(my_tuple[0])  \n",
    "print(my_tuple[2])  "
   ]
  },
  {
   "cell_type": "markdown",
   "id": "b80c979e-85b8-469f-b1c2-9bbe42c70bbb",
   "metadata": {},
   "source": [
    "Negative indexing: In addition to positive indexing, negative indexing can also be used to access elements from the end of the tuple. The last element has an index of -1, the second-last element has an index of -2, and so on."
   ]
  },
  {
   "cell_type": "code",
   "execution_count": 6,
   "id": "992c03de-f620-4b81-a2a1-c10a84bf377c",
   "metadata": {},
   "outputs": [
    {
     "name": "stdout",
     "output_type": "stream",
     "text": [
      "50\n",
      "30\n"
     ]
    }
   ],
   "source": [
    "my_tuple = (10, 20, 30, 40, 50)\n",
    "print(my_tuple[-1])  \n",
    "print(my_tuple[-3])  "
   ]
  },
  {
   "cell_type": "markdown",
   "id": "365c20f6-50cb-4b8c-9b6b-1089fae4d53a",
   "metadata": {},
   "source": [
    "Slicing:\n",
    "A subsequence of elements can be extracted from a tuple using slicing. Specify a range of indices to retrieve multiple elements at once. The syntax for slicing is (start:stop:step)."
   ]
  },
  {
   "cell_type": "code",
   "execution_count": 7,
   "id": "2cfaa6e0-b978-4192-ae8c-641ff4b7b25e",
   "metadata": {},
   "outputs": [
    {
     "name": "stdout",
     "output_type": "stream",
     "text": [
      "(20, 30, 40)\n",
      "(10, 30, 50)\n",
      "(50, 40, 30, 20, 10)\n"
     ]
    }
   ],
   "source": [
    "my_tuple = (10, 20, 30, 40, 50)\n",
    "print(my_tuple[1:4])     \n",
    "print(my_tuple[::2])     \n",
    "print(my_tuple[::-1])    "
   ]
  },
  {
   "cell_type": "markdown",
   "id": "76412a61-e5b6-45ad-bb90-48705bbce985",
   "metadata": {},
   "source": [
    "# Answer 6\n",
    "Unpack a tuple by assigning its elements to separate variables."
   ]
  },
  {
   "cell_type": "code",
   "execution_count": 10,
   "id": "12f2e44b-34a9-44c9-bfe9-606d0ea8402f",
   "metadata": {},
   "outputs": [
    {
     "name": "stdout",
     "output_type": "stream",
     "text": [
      "10\n",
      "20\n",
      "[30, 40, 50]\n"
     ]
    }
   ],
   "source": [
    "my_tuple = (10, 20, 30, 40, 50)\n",
    "x, y, *rest = my_tuple\n",
    "\n",
    "print(x)   \n",
    "print(y)   \n",
    "print(rest) "
   ]
  },
  {
   "cell_type": "code",
   "execution_count": null,
   "id": "ae9aa2e0-a32e-453a-bc19-3b6e9dbc5315",
   "metadata": {},
   "outputs": [],
   "source": []
  }
 ],
 "metadata": {
  "kernelspec": {
   "display_name": "Python 3 (ipykernel)",
   "language": "python",
   "name": "python3"
  },
  "language_info": {
   "codemirror_mode": {
    "name": "ipython",
    "version": 3
   },
   "file_extension": ".py",
   "mimetype": "text/x-python",
   "name": "python",
   "nbconvert_exporter": "python",
   "pygments_lexer": "ipython3",
   "version": "3.10.8"
  }
 },
 "nbformat": 4,
 "nbformat_minor": 5
}
