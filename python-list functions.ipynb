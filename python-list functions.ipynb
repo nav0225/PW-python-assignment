{
 "cells": [
  {
   "cell_type": "markdown",
   "id": "7b0a578e-1ef7-47c5-a5d5-73bf346e2941",
   "metadata": {},
   "source": [
    "# Answer 1:\n",
    "The append() method adds a single element to the end of a list.\n"
   ]
  },
  {
   "cell_type": "code",
   "execution_count": null,
   "id": "db1fbbc2-7858-4302-b216-956987557d26",
   "metadata": {},
   "outputs": [],
   "source": [
    "my_list = [1, 2, 3]\n",
    "my_list.append(4)\n",
    "print(my_list)\n"
   ]
  },
  {
   "cell_type": "markdown",
   "id": "d7b64062-f8b0-4eeb-b8ef-8b9be7e6c3eb",
   "metadata": {},
   "source": [
    "extend() method adds multiple elements to the end of a list. It takes an iterable (such as a list or tuple) as an argument."
   ]
  },
  {
   "cell_type": "code",
   "execution_count": null,
   "id": "320368df-cd95-43e0-ab39-2f31b9fefcb0",
   "metadata": {},
   "outputs": [],
   "source": [
    "my_list = [1, 2, 3]\n",
    "my_list.extend([4, 5, 6])\n",
    "print(my_list)\n"
   ]
  },
  {
   "cell_type": "markdown",
   "id": "5fbb4f92-eeb6-4384-8a27-73bbe400e544",
   "metadata": {},
   "source": [
    "insert() method allows adds an element at a specific index in the list."
   ]
  },
  {
   "cell_type": "code",
   "execution_count": null,
   "id": "e06d64a8-e41e-4359-86c9-50ace93f341c",
   "metadata": {},
   "outputs": [],
   "source": [
    "my_list = [1, 2, 3]\n",
    "my_list.insert(1, 4)\n",
    "print(my_list)\n"
   ]
  },
  {
   "cell_type": "markdown",
   "id": "729fce4c-8600-41ae-8045-daec4ee4a299",
   "metadata": {},
   "source": [
    "# Answer 2:\n",
    "The remove() function is used to remove the first occurrence of a specified element from a list. It searches for the element in the list and removes it if found."
   ]
  },
  {
   "cell_type": "code",
   "execution_count": 1,
   "id": "b3f0cdb0-6077-4beb-a036-e3998e302faa",
   "metadata": {},
   "outputs": [
    {
     "name": "stdout",
     "output_type": "stream",
     "text": [
      "[1, 3, 2]\n"
     ]
    }
   ],
   "source": [
    "my_list = [1, 2, 3, 2]\n",
    "my_list.remove(2)\n",
    "print(my_list)\n"
   ]
  },
  {
   "cell_type": "markdown",
   "id": "44627e4e-f75d-4851-ad03-1edb9d940a7d",
   "metadata": {},
   "source": [
    "The pop() function is used to remove and return an element from a list at a specified index."
   ]
  },
  {
   "cell_type": "code",
   "execution_count": 2,
   "id": "f130f416-0c4e-4c43-831b-4e6b3f378afb",
   "metadata": {},
   "outputs": [
    {
     "name": "stdout",
     "output_type": "stream",
     "text": [
      "[1, 3]\n",
      "2\n"
     ]
    }
   ],
   "source": [
    "my_list = [1, 2, 3]\n",
    "popped_element = my_list.pop(1)\n",
    "print(my_list)\n",
    "print(popped_element)   \n"
   ]
  },
  {
   "cell_type": "markdown",
   "id": "34499d06-4289-4fb6-a9ee-340b70cf2982",
   "metadata": {},
   "source": [
    "# Answer 3:\n",
    "Using sort() method:"
   ]
  },
  {
   "cell_type": "code",
   "execution_count": null,
   "id": "6a5d9e53-6bc5-4c49-8029-42c36a86fce7",
   "metadata": {},
   "outputs": [],
   "source": [
    "my_list = [5, 2, 8, 1, 9]\n",
    "my_list.sort(reverse=True)\n",
    "print(my_list)  # Output: [9, 8, 5, 2, 1]\n"
   ]
  },
  {
   "cell_type": "markdown",
   "id": "245acbe6-370b-4b19-9de2-c00b97699ab2",
   "metadata": {},
   "source": [
    "Using sorted() function:"
   ]
  },
  {
   "cell_type": "code",
   "execution_count": null,
   "id": "480fde1a-6283-4fea-bd51-6f60bedb1ff9",
   "metadata": {},
   "outputs": [],
   "source": [
    "my_list = [5, 2, 8, 1, 9]\n",
    "sorted_list = sorted(my_list, reverse=True)\n",
    "print(sorted_list)  # Output: [9, 8, 5, 2, 1]"
   ]
  },
  {
   "cell_type": "markdown",
   "id": "4c930e73-c913-4025-9a48-0671b0ea03fb",
   "metadata": {},
   "source": [
    "# Answer 4:"
   ]
  },
  {
   "cell_type": "code",
   "execution_count": 3,
   "id": "d661cd49-0561-4a1e-a081-e02bbf1d5dd7",
   "metadata": {},
   "outputs": [
    {
     "name": "stdout",
     "output_type": "stream",
     "text": [
      "Number of occurrences of 2 in the list: 4\n"
     ]
    }
   ],
   "source": [
    "my_list = [1, 2, 2, 3, 2, 4, 2, 5]\n",
    "element = 2\n",
    "\n",
    "count = my_list.count(element)\n",
    "\n",
    "print(\"Number of occurrences of {} in the list: {}\".format(element, count))\n"
   ]
  },
  {
   "cell_type": "markdown",
   "id": "a8147fbb-81e7-4878-8fa2-872a136d2a00",
   "metadata": {},
   "source": [
    "# Answer 5:\n",
    "Using reverse() method:"
   ]
  },
  {
   "cell_type": "code",
   "execution_count": null,
   "id": "84cddcbc-fa81-4d97-a563-8fcf7d95d913",
   "metadata": {},
   "outputs": [],
   "source": [
    "my_list = [1, 2, 3, 4, 5]\n",
    "my_list.reverse()\n",
    "print(my_list)\n"
   ]
  },
  {
   "cell_type": "markdown",
   "id": "51698c6e-22c5-4e11-94d7-162dd787b30d",
   "metadata": {},
   "source": [
    "Using slicing:"
   ]
  },
  {
   "cell_type": "code",
   "execution_count": null,
   "id": "e632d83f-747a-4e29-8948-52927865aba7",
   "metadata": {},
   "outputs": [],
   "source": [
    "my_list = [1, 2, 3, 4, 5]\n",
    "reversed_list = my_list[::-1]\n",
    "print(reversed_list)"
   ]
  },
  {
   "cell_type": "code",
   "execution_count": null,
   "id": "e1a83ebc-2b07-4650-91f8-b5a8e25d5db6",
   "metadata": {},
   "outputs": [],
   "source": []
  }
 ],
 "metadata": {
  "kernelspec": {
   "display_name": "Python 3 (ipykernel)",
   "language": "python",
   "name": "python3"
  },
  "language_info": {
   "codemirror_mode": {
    "name": "ipython",
    "version": 3
   },
   "file_extension": ".py",
   "mimetype": "text/x-python",
   "name": "python",
   "nbconvert_exporter": "python",
   "pygments_lexer": "ipython3",
   "version": "3.10.8"
  }
 },
 "nbformat": 4,
 "nbformat_minor": 5
}
