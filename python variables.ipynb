{
 "cells": [
  {
   "cell_type": "markdown",
   "id": "76a0cea1-ec7d-41d7-bcff-f0c4551dc7f4",
   "metadata": {},
   "source": [
    "# Answer 1: \n",
    "  -Variables do not need to be declared with any particular type, and can even change type after they have been set.\n",
    "  -Variable names should be chosen such that it accurately describes the purpose or contents of the variable.\n",
    "  -Start variable names with a lowercase letter.\n",
    "  -Use underscores to separate words in variable names, known as snake_case\n",
    "  -Do not use reserved Python keywords as variable names."
   ]
  },
  {
   "cell_type": "markdown",
   "id": "51881db9-08b5-426f-b479-15fe62953e6c",
   "metadata": {},
   "source": [
    "# Answer 2:\n",
    "If attempted to declare a variable with a restricted keyword, it will result in a syntax error. Python's restricted keywords are reserved for specific purposes and have predefined functionality in the language."
   ]
  },
  {
   "cell_type": "markdown",
   "id": "b219249c-68da-4c4e-b06a-12a06851d6a3",
   "metadata": {},
   "source": [
    "# Answer 3: \n",
    "A string can be declared as a variable name, but it is not recommended and is generally considered bad practice. While Python allows it, using strings as variable names can lead to code that is difficult to read, maintain, and debug.\n",
    "\r\n"
   ]
  },
  {
   "cell_type": "code",
   "execution_count": 1,
   "id": "5a6f0d3f-c577-48bb-acc7-50e77d1b9952",
   "metadata": {},
   "outputs": [
    {
     "name": "stdout",
     "output_type": "stream",
     "text": [
      "value\n"
     ]
    }
   ],
   "source": [
    "#for example-\n",
    "\n",
    "variable_name = \"value\"\n",
    "print(variable_name)  # Output: value\n"
   ]
  },
  {
   "cell_type": "markdown",
   "id": "6ebc31e5-068d-495e-9db5-e314b8c4d656",
   "metadata": {},
   "source": [
    "# Answer 4: \n",
    "Yes, it is possible to declare a variable with the name \"_\". The underscore character \"_\" is a valid variable name, and it has a special meaning in certain contexts.\n",
    "\n",
    "on\")\r\n"
   ]
  },
  {
   "cell_type": "code",
   "execution_count": 2,
   "id": "88dc3054-8453-4dc1-84c3-24299af668fb",
   "metadata": {},
   "outputs": [
    {
     "name": "stdout",
     "output_type": "stream",
     "text": [
      "42\n",
      "Iteration\n",
      "Iteration\n",
      "Iteration\n",
      "Iteration\n",
      "Iteration\n"
     ]
    }
   ],
   "source": [
    "#Here's an example that demonstrates the usage of the \"_\" variable:\n",
    "\n",
    "_ = 42\n",
    "print(_)  # Output: 42\n",
    "\n",
    "for _ in range(5):\n",
    "    print(\"Iteration\")"
   ]
  },
  {
   "cell_type": "markdown",
   "id": "8e246622-efff-4995-a557-066a0f715e51",
   "metadata": {},
   "source": [
    "# Answer 5: \n",
    "In Python, variables are dynamically typed, which means that you can assign values of different types to the same variable during the execution of a program. This dynamic nature allows for greater flexibility and ease of coding.\n",
    "\n",
    ", 2, 3]\r\n"
   ]
  },
  {
   "cell_type": "code",
   "execution_count": 3,
   "id": "06525127-927c-44c9-a48c-d700acdb4100",
   "metadata": {},
   "outputs": [
    {
     "name": "stdout",
     "output_type": "stream",
     "text": [
      "5\n",
      "Hello, world!\n",
      "[1, 2, 3]\n"
     ]
    }
   ],
   "source": [
    "#Dynamic typing example\n",
    "x = 5\n",
    "print(x)  # Output: 5\n",
    "\n",
    "x = \"Hello, world!\"\n",
    "print(x)  # Output: Hello, world!\n",
    "\n",
    "x = [1, 2, 3]\n",
    "print(x)  # Output: [1, 2, 3]\n"
   ]
  },
  {
   "cell_type": "code",
   "execution_count": null,
   "id": "0aeafed5-079a-41c0-86a6-57d1bfcb4e86",
   "metadata": {},
   "outputs": [],
   "source": []
  }
 ],
 "metadata": {
  "kernelspec": {
   "display_name": "Python 3 (ipykernel)",
   "language": "python",
   "name": "python3"
  },
  "language_info": {
   "codemirror_mode": {
    "name": "ipython",
    "version": 3
   },
   "file_extension": ".py",
   "mimetype": "text/x-python",
   "name": "python",
   "nbconvert_exporter": "python",
   "pygments_lexer": "ipython3",
   "version": "3.11.3"
  }
 },
 "nbformat": 4,
 "nbformat_minor": 5
}
