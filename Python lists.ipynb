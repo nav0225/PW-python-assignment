{
 "cells": [
  {
   "cell_type": "markdown",
   "id": "46a35df8-94c9-4c7d-b5c4-43203e0cf995",
   "metadata": {},
   "source": [
    "# Answer 1:"
   ]
  },
  {
   "cell_type": "code",
   "execution_count": null,
   "id": "662bd78f-3acc-420d-a971-5fc267c74b69",
   "metadata": {},
   "outputs": [],
   "source": [
    "# Method 1: \n",
    "empty_list_1 = []\n",
    "print(empty_list_1) \n",
    "\n",
    "# Method 2: \n",
    "empty_list_2 = list()\n",
    "print(empty_list_2)  "
   ]
  },
  {
   "cell_type": "markdown",
   "id": "823c310c-c9e6-44a7-ae82-fd89dbd419c4",
   "metadata": {},
   "source": [
    "# Answer 2:"
   ]
  },
  {
   "cell_type": "code",
   "execution_count": null,
   "id": "53de6482-bdd9-4cac-8e59-11e5d15f1d80",
   "metadata": {},
   "outputs": [],
   "source": [
    "fruits = ['mango', 'banana', 'grapes']\n",
    "\n",
    "fruits.append('apple')\n",
    "\n",
    "print(fruits)  # Output: ['apple']\n"
   ]
  },
  {
   "cell_type": "markdown",
   "id": "0a29c6ad-0937-487c-ad19-70d0b2047d4c",
   "metadata": {},
   "source": [
    "# Answer 3:"
   ]
  },
  {
   "cell_type": "code",
   "execution_count": 1,
   "id": "3cdf10ca-54ff-4b91-b6f6-c0ca9802b6e7",
   "metadata": {},
   "outputs": [
    {
     "name": "stdout",
     "output_type": "stream",
     "text": [
      "apple\n"
     ]
    }
   ],
   "source": [
    "fruits = ['mango', 'banana', 'grapes']\n",
    "\n",
    "fruits.append('apple')\n",
    "\n",
    "print(fruits[3])\n"
   ]
  },
  {
   "cell_type": "markdown",
   "id": "da0f4840-2859-47f0-bfa0-092109a48080",
   "metadata": {},
   "source": [
    "# Answer 4:"
   ]
  },
  {
   "cell_type": "code",
   "execution_count": 4,
   "id": "74254150-628e-431d-a968-98d7691929a9",
   "metadata": {},
   "outputs": [
    {
     "name": "stdout",
     "output_type": "stream",
     "text": [
      "['apple', 'grapes', 'banana', 'mango']\n"
     ]
    }
   ],
   "source": [
    "fruits = ['mango', 'banana', 'grapes']\n",
    "\n",
    "fruits.append('apple')\n",
    "fruits.reverse()\n",
    "\n",
    "print(fruits)\n"
   ]
  },
  {
   "cell_type": "markdown",
   "id": "7ffb4082-b612-44c7-97dd-b25b73045432",
   "metadata": {},
   "source": [
    "# Answer 5:"
   ]
  },
  {
   "cell_type": "code",
   "execution_count": 5,
   "id": "85fd6b59-f0bf-45c0-a679-2e4a030bfff3",
   "metadata": {},
   "outputs": [
    {
     "name": "stdout",
     "output_type": "stream",
     "text": [
      "['apple', 'banana', 'grapes', 'mango']\n"
     ]
    }
   ],
   "source": [
    "fruits = ['mango', 'banana', 'grapes']\n",
    "\n",
    "fruits.append('apple')\n",
    "fruits.reverse()\n",
    "\n",
    "fruits.sort()\n",
    "print(fruits)"
   ]
  },
  {
   "cell_type": "markdown",
   "id": "fc095f26-3a96-46e9-ac4a-c502d10590c5",
   "metadata": {},
   "source": [
    "# Answer 6: "
   ]
  },
  {
   "cell_type": "code",
   "execution_count": 6,
   "id": "30df735c-ce07-4b22-bf17-ee31d0f227fb",
   "metadata": {},
   "outputs": [
    {
     "name": "stdout",
     "output_type": "stream",
     "text": [
      "Harry Potter\n"
     ]
    }
   ],
   "source": [
    "my_fav_movies = ['John Wick', 'Harry Potter', 'Spider Man']\n",
    "\n",
    "print(my_fav_movies[1])"
   ]
  },
  {
   "cell_type": "markdown",
   "id": "9c552aa0-3d19-435b-85f7-cc6b384ab6bc",
   "metadata": {},
   "source": [
    "# Answer 7:"
   ]
  },
  {
   "cell_type": "code",
   "execution_count": 7,
   "id": "a5378029-dcd5-420d-b975-a8894475cbbf",
   "metadata": {},
   "outputs": [
    {
     "name": "stdout",
     "output_type": "stream",
     "text": [
      "['dog', 'cat', 'rat', 'parrot', 'Hedwig']\n"
     ]
    }
   ],
   "source": [
    "my_fav_animals = ['dog', 'cat', 'rat', 'parrot']\n",
    "\n",
    "my_fav_animals.append('Hedwig')\n",
    "print(my_fav_animals)"
   ]
  },
  {
   "cell_type": "markdown",
   "id": "62d2cb60-3d82-4751-9739-8a58423921a0",
   "metadata": {},
   "source": [
    "# Answer 8:"
   ]
  },
  {
   "cell_type": "code",
   "execution_count": null,
   "id": "0ffd7f23-ac74-4e7b-b4f9-c7dbf37676dd",
   "metadata": {},
   "outputs": [],
   "source": [
    "my_fav_city = ['Kharagpur', 'Neemuch', 'Indore', 'Kolkata']\n",
    "\n",
    "my_fav-city"
   ]
  }
 ],
 "metadata": {
  "kernelspec": {
   "display_name": "Python 3 (ipykernel)",
   "language": "python",
   "name": "python3"
  },
  "language_info": {
   "codemirror_mode": {
    "name": "ipython",
    "version": 3
   },
   "file_extension": ".py",
   "mimetype": "text/x-python",
   "name": "python",
   "nbconvert_exporter": "python",
   "pygments_lexer": "ipython3",
   "version": "3.10.8"
  }
 },
 "nbformat": 4,
 "nbformat_minor": 5
}
