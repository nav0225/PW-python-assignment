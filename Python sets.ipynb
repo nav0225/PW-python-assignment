{
 "cells": [
  {
   "cell_type": "markdown",
   "id": "89810fcd-c654-48f6-ae9b-6274f850491b",
   "metadata": {},
   "source": [
    "# Answer 1:\n",
    "A set is an unordered collection of unique elements. It is a built-in data type that represents a mathematical set. Sets are mutable, meaning elements can be added or removeed from sets. The elements in a set can be of different data types, such as numbers, strings etc."
   ]
  },
  {
   "cell_type": "markdown",
   "id": "ae82edfb-e3f2-4561-8401-493412f38a10",
   "metadata": {},
   "source": [
    "# Answer 2:\n",
    "Using curly braces {}"
   ]
  },
  {
   "cell_type": "code",
   "execution_count": 1,
   "id": "28e4c02e-94d8-49d6-aa07-701baaeaf351",
   "metadata": {},
   "outputs": [
    {
     "name": "stdout",
     "output_type": "stream",
     "text": [
      "{1, 2, 3, 4, 5}\n"
     ]
    }
   ],
   "source": [
    "my_set = {1, 2, 3, 4, 5}\n",
    "print(my_set)"
   ]
  },
  {
   "cell_type": "markdown",
   "id": "2c1c0084-123b-47ef-87e1-206ae3365eaf",
   "metadata": {},
   "source": [
    "Using the set() function:"
   ]
  },
  {
   "cell_type": "code",
   "execution_count": null,
   "id": "f928cf37-e132-4d67-9aec-d8dfe1c2d75a",
   "metadata": {},
   "outputs": [],
   "source": [
    "my_set = set([1, 2, 3, 4, 5])\n",
    "print(my_set) \n",
    "\n",
    "my_set = set() #creates an empty set\n",
    "print(my_set) "
   ]
  },
  {
   "cell_type": "markdown",
   "id": "9a7e0b43-405c-4ba0-80c2-925d3340a047",
   "metadata": {},
   "source": [
    "# Answer 3:\n",
    "Using the add() method:"
   ]
  },
  {
   "cell_type": "code",
   "execution_count": 3,
   "id": "8344cced-1d93-4ac1-a919-4ee54e36fafd",
   "metadata": {},
   "outputs": [
    {
     "name": "stdout",
     "output_type": "stream",
     "text": [
      "{1, 2, 3, 4}\n"
     ]
    }
   ],
   "source": [
    "my_set = {1, 2, 3}\n",
    "my_set.add(4)\n",
    "print(my_set) "
   ]
  },
  {
   "cell_type": "markdown",
   "id": "f5b12e63-0d87-4982-9ca4-d45986ea326b",
   "metadata": {},
   "source": [
    "Using the update() method:"
   ]
  },
  {
   "cell_type": "code",
   "execution_count": 2,
   "id": "49e67f04-5b3b-4f91-9729-4e3ab6d2d4c7",
   "metadata": {},
   "outputs": [
    {
     "name": "stdout",
     "output_type": "stream",
     "text": [
      "{1, 2, 3, 4, 5, 6}\n"
     ]
    }
   ],
   "source": [
    "my_set = {1, 2, 3}\n",
    "my_set.update([4, 5, 6])\n",
    "print(my_set)"
   ]
  },
  {
   "cell_type": "markdown",
   "id": "f3d37599-4e8b-45e2-a93d-5e277ef009b1",
   "metadata": {},
   "source": [
    "# Answer 4:\n",
    "remove() method:"
   ]
  },
  {
   "cell_type": "code",
   "execution_count": 4,
   "id": "add7d4be-0aa9-4685-be96-4e0b85eaa275",
   "metadata": {},
   "outputs": [
    {
     "name": "stdout",
     "output_type": "stream",
     "text": [
      "{1, 2, 4}\n"
     ]
    }
   ],
   "source": [
    "my_set = {1, 2, 3, 4}\n",
    "my_set.remove(3)\n",
    "print(my_set)"
   ]
  },
  {
   "cell_type": "markdown",
   "id": "def701d3-03c8-44c6-ae0d-b9acc16598c8",
   "metadata": {},
   "source": [
    "discard() method:"
   ]
  },
  {
   "cell_type": "code",
   "execution_count": 5,
   "id": "4f150e3a-631f-4290-94b2-81b2b0dc7266",
   "metadata": {},
   "outputs": [
    {
     "name": "stdout",
     "output_type": "stream",
     "text": [
      "{1, 2, 4}\n"
     ]
    }
   ],
   "source": [
    "my_set = {1, 2, 3, 4}\n",
    "my_set.discard(3)\n",
    "print(my_set)"
   ]
  },
  {
   "cell_type": "markdown",
   "id": "33af4fbf-8efd-43ce-aa1c-21ff58d7d1e8",
   "metadata": {},
   "source": [
    "pop() method:"
   ]
  },
  {
   "cell_type": "code",
   "execution_count": 6,
   "id": "532121f4-8354-4c12-ab12-d3c9ce5084c6",
   "metadata": {},
   "outputs": [
    {
     "name": "stdout",
     "output_type": "stream",
     "text": [
      "{2, 3, 4}\n",
      "1\n"
     ]
    }
   ],
   "source": [
    "my_set = {1, 2, 3, 4}\n",
    "popped_element = my_set.pop()\n",
    "print(my_set)\n",
    "print(popped_element)  "
   ]
  },
  {
   "cell_type": "markdown",
   "id": "5e1920d6-2faf-43f0-b99a-c377a7de1cc6",
   "metadata": {},
   "source": [
    "# Answer 5:\n",
    "use the len() function. The len() function returns the number of elements in a set."
   ]
  },
  {
   "cell_type": "code",
   "execution_count": 7,
   "id": "61e723f2-41f4-49e0-8248-838596159fad",
   "metadata": {},
   "outputs": [
    {
     "name": "stdout",
     "output_type": "stream",
     "text": [
      "5\n"
     ]
    }
   ],
   "source": [
    "my_set = {1, 2, 3, 4, 5}\n",
    "length = len(my_set)\n",
    "print(length)"
   ]
  },
  {
   "cell_type": "code",
   "execution_count": null,
   "id": "a598fee5-2a35-47fd-bf07-981df0d74265",
   "metadata": {},
   "outputs": [],
   "source": []
  }
 ],
 "metadata": {
  "kernelspec": {
   "display_name": "Python 3 (ipykernel)",
   "language": "python",
   "name": "python3"
  },
  "language_info": {
   "codemirror_mode": {
    "name": "ipython",
    "version": 3
   },
   "file_extension": ".py",
   "mimetype": "text/x-python",
   "name": "python",
   "nbconvert_exporter": "python",
   "pygments_lexer": "ipython3",
   "version": "3.10.8"
  }
 },
 "nbformat": 4,
 "nbformat_minor": 5
}
